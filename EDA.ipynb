{
 "cells": [
  {
   "cell_type": "code",
   "execution_count": null,
   "id": "243be17a",
   "metadata": {},
   "outputs": [],
   "source": [
    "# Imorting required libraries\n",
    "import pandas as pd\n",
    "import numpy as np\n",
    "import matplotlib.pyplot as plt\n",
    "\n",
    "# Loading csv file using pandas\n",
    "movies_data = pd.read_csv(\"netflix_titles.csv\" , index_col= 'show_id')\n",
    "\n",
    "movies_data.head()"
   ]
  },
  {
   "cell_type": "code",
   "execution_count": null,
   "id": "acd793a0",
   "metadata": {},
   "outputs": [],
   "source": [
    "# Showing all details of dataset\n",
    "\n",
    "movies_data.info();\n",
    "\n",
    "movies_data.count()"
   ]
  },
  {
   "cell_type": "code",
   "execution_count": null,
   "id": "76334d4a",
   "metadata": {},
   "outputs": [],
   "source": [
    "#Check for null values within each column. RECHECK :Fill in values for more than 100 missing columns with a specific label such as \"No Director\" or \"Country Unavailable.\" Drop the rows for the remaining missing columns.\n",
    "\n",
    "count = 0 \n",
    "while count < 100:\n",
    "    movies_data['director'] = np.where(movies_data['director'].isnull(), \"No Director\", movies_data['director'])\n",
    "    count = count+1\n",
    "    movies_data['country'] = np.where(movies_data['country'].isnull(), \"Country unavailable\", movies_data['country'])\n",
    "    count = count+1\n",
    "\n",
    "print(count)\n",
    "\n",
    "movies_data.dropna(inplace= True)\n",
    "\n",
    "movies_data.count()\n",
    "        \n",
    "    \n",
    "        "
   ]
  },
  {
   "cell_type": "code",
   "execution_count": null,
   "id": "50fac3b6",
   "metadata": {},
   "outputs": [],
   "source": [
    "#Create a horizontal bar chart displaying the top 10 countries with the highest number of movies and TV shows.\n",
    "\n",
    "country_counts = movies_data['country'].value_counts()\n",
    "\n",
    "# Retrieve the top 10 countries\n",
    "top_10_countries = country_counts.head(10)\n",
    "\n",
    "print(top_10_countries)\n",
    "\n"
   ]
  },
  {
   "cell_type": "code",
   "execution_count": null,
   "id": "ef7c314d",
   "metadata": {},
   "outputs": [],
   "source": [
    "\n",
    "# Create a horizontal bar chart\n",
    "plt.barh(top_10_countries.index, top_10_countries.values)\n",
    "\n",
    "# Set the chart title and axis labels\n",
    "plt.title('Top 10 Countries with Highest Number of Movies and TV Shows')\n",
    "plt.xlabel('Number of Movies and TV Shows')\n",
    "plt.ylabel('Country')\n",
    "\n",
    "# Display the chart\n",
    "plt.show()"
   ]
  },
  {
   "cell_type": "code",
   "execution_count": null,
   "id": "11ade3de",
   "metadata": {},
   "outputs": [],
   "source": [
    "\n",
    "\n",
    "#Applying filter for type Movie and used that filter to group the countries and fetch first row of each country.\n",
    "filt = (movies_data['type'] == 'Movie')\n",
    "filtered_data = movies_data[filt]\n",
    "country_grp = filtered_data.groupby(['country'])\n",
    "\n",
    "first_row = country_grp.head(1).reset_index(drop=True)\n",
    "\n",
    "first_row[['director' , 'date_added' , 'release_year' , 'duration' , 'description' , 'country']]\n",
    "\n",
    "\n"
   ]
  },
  {
   "cell_type": "code",
   "execution_count": null,
   "id": "486509d8",
   "metadata": {},
   "outputs": [],
   "source": [
    "\n",
    "#Display the title, director, date added, and release date of movies where the official release date and the date added to the platform have the same year.\n",
    "#Applying filter for type Movie\n",
    "filt = (movies_data['type'] == 'Movie')\n",
    "filtered_data = movies_data[filt]\n",
    "\n",
    "\n",
    "# Function to check if one column value is a substring of another column value\n",
    "def is_substring(row):\n",
    "    return str(row['release_year']) in str(row['date_added'])\n",
    "\n",
    "# Apply the function row-wise to create a boolean mask\n",
    "substring = filtered_data.apply(is_substring, axis=1)\n",
    "\n",
    "\n",
    "\n",
    "\n",
    "# Print the rows where the condition is true\n",
    "result = filtered_data[substring]\n",
    "\n",
    "result[['title','director','date_added','release_year']]\n",
    " "
   ]
  },
  {
   "cell_type": "code",
   "execution_count": null,
   "id": "2099bae2",
   "metadata": {},
   "outputs": [],
   "source": [
    "\n",
    "# Group the dataset by director and release year, and count the number of movies and TV shows\n",
    "group_by = movies_data.groupby(['director', 'release_year']).agg({'type': 'count'}).rename(columns={'type': 'Count'})\n",
    "\n",
    "# Sort the results based on the count in descending order\n",
    "result = group_by.sort_values(by='Count', ascending=False)\n",
    "#It has director , release_year and count of movies and tv shows\n",
    "print(result)"
   ]
  },
  {
   "cell_type": "code",
   "execution_count": null,
   "id": "85deda39",
   "metadata": {},
   "outputs": [],
   "source": [
    "\n",
    "\n",
    "# Used filter to check for Documentaries or Docuseries\n",
    "filt = (movies_data['listed_in'] == 'Documentaries') | (movies_data['listed_in'].str.contains('Docuseries'))\n",
    "filtered_data = movies_data[filt]\n",
    "\n",
    "filtered_data[['title' , 'director' , 'date_added' , 'type']]\n",
    "\n"
   ]
  },
  {
   "cell_type": "code",
   "execution_count": null,
   "id": "535734bd",
   "metadata": {},
   "outputs": [],
   "source": [
    "\n",
    "\n",
    "#Used filter to get the the movies and Tv shows of family drama category.\n",
    "filt = movies_data['description'].str.contains('family drama')\n",
    "filtered_data = movies_data[filt]\n",
    "\n",
    "filtered_data[['title' , 'date_added' , 'type' , 'description']]\n",
    "\n"
   ]
  },
  {
   "cell_type": "code",
   "execution_count": null,
   "id": "50765321",
   "metadata": {},
   "outputs": [],
   "source": [
    "\n",
    "filt = movies_data['type'] == 'TV Show'\n",
    "filtered_data = movies_data[filt]\n",
    "\n",
    "seasons_count = filtered_data['duration'].value_counts()\n",
    "\n",
    "\n",
    "# Create a horizontal bar chart\n",
    "plt.barh(seasons_count.index, seasons_count.values)\n",
    "\n",
    "# Set the chart title and axis labels\n",
    "plt.title('No of Tv Shows based on number of seasons')\n",
    "plt.xlabel('Count of number of TV Shows')\n",
    "plt.ylabel('Seasons')\n",
    "\n",
    "# Display the chart\n",
    "plt.show()\n"
   ]
  },
  {
   "cell_type": "code",
   "execution_count": null,
   "id": "09d388e1",
   "metadata": {},
   "outputs": [],
   "source": [
    "# Display a side-by-side pie chart showing the distribution of movie and TV show ratings.\n",
    "\n",
    "\n",
    "# Group the movies based on ratings and count occurrences in each category\n",
    "movie_ratings_counts = movies_data[movies_data['type'] == 'Movie']['rating'].value_counts()\n",
    "\n",
    "# Group the TV shows based on ratings and count occurrences in each category\n",
    "tv_show_ratings_counts = movies_data[movies_data['type'] == 'TV Show']['rating'].value_counts()\n",
    "\n",
    "# Create two separate pie charts for movie ratings and TV show ratings\n",
    "fig, (ax1, ax2) = plt.subplots(1, 2)\n",
    "\n",
    "# Plot the movie ratings pie chart\n",
    "ax1.pie(movie_ratings_counts , autopct='%1.0f%%' , pctdistance=1.2)\n",
    "ax1.set_title('Movie Ratings')\n",
    "\n",
    "# Plot the TV show ratings pie chart\n",
    "ax2.pie(tv_show_ratings_counts, autopct='%1.0f%%' , pctdistance=1.2 )\n",
    "ax2.set_title('TV Show Ratings')\n",
    "\n",
    "# Adjust spacing between the two pie charts\n",
    "plt.subplots_adjust(wspace=0.4)\n",
    "\n",
    "# Display the side-by-side pie charts\n",
    "plt.show()\n"
   ]
  },
  {
   "cell_type": "code",
   "execution_count": null,
   "id": "b9533eaa",
   "metadata": {},
   "outputs": [],
   "source": []
  },
  {
   "cell_type": "code",
   "execution_count": null,
   "id": "eab5e2d4",
   "metadata": {},
   "outputs": [],
   "source": []
  }
 ],
 "metadata": {
  "kernelspec": {
   "display_name": "Python 3 (ipykernel)",
   "language": "python",
   "name": "python3"
  },
  "language_info": {
   "codemirror_mode": {
    "name": "ipython",
    "version": 3
   },
   "file_extension": ".py",
   "mimetype": "text/x-python",
   "name": "python",
   "nbconvert_exporter": "python",
   "pygments_lexer": "ipython3",
   "version": "3.10.2"
  }
 },
 "nbformat": 4,
 "nbformat_minor": 5
}
